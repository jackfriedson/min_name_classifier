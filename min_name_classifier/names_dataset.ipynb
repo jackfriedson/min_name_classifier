{
 "cells": [
  {
   "cell_type": "markdown",
   "source": [
    "This notebook fine-tunes the distilbert-base-uncased model on a custom dataset of names and non-name English words"
   ],
   "metadata": {
    "collapsed": false
   },
   "id": "331c0f87177aa220"
  },
  {
   "cell_type": "code",
   "execution_count": 2,
   "id": "initial_id",
   "metadata": {
    "collapsed": true,
    "ExecuteTime": {
     "end_time": "2024-03-26T01:23:25.015394Z",
     "start_time": "2024-03-26T01:23:18.437736Z"
    }
   },
   "outputs": [
    {
     "data": {
      "text/plain": "Map:   0%|          | 0/131491 [00:00<?, ? examples/s]",
      "application/vnd.jupyter.widget-view+json": {
       "version_major": 2,
       "version_minor": 0,
       "model_id": "1d74bf0a543740028c3add1a0529669a"
      }
     },
     "metadata": {},
     "output_type": "display_data"
    },
    {
     "data": {
      "text/plain": "Map:   0%|          | 0/14611 [00:00<?, ? examples/s]",
      "application/vnd.jupyter.widget-view+json": {
       "version_major": 2,
       "version_minor": 0,
       "model_id": "efba23b5d9ee445cbe6731571ace363a"
      }
     },
     "metadata": {},
     "output_type": "display_data"
    },
    {
     "data": {
      "text/plain": "DatasetDict({\n    train: Dataset({\n        features: ['id', 'tokens', 'ner_tags', 'is_name', 'name_type'],\n        num_rows: 131491\n    })\n    test: Dataset({\n        features: ['id', 'tokens', 'ner_tags', 'is_name', 'name_type'],\n        num_rows: 14611\n    })\n})"
     },
     "execution_count": 2,
     "metadata": {},
     "output_type": "execute_result"
    }
   ],
   "source": [
    "import ast\n",
    "\n",
    "from datasets import load_dataset\n",
    "\n",
    "raw_datasets = load_dataset(\"csv\", data_files=\"../data/names_dataset.csv\", split=\"train[:20%]\").train_test_split(test_size=0.1, shuffle=False)\n",
    "def parse_lists(example):\n",
    "    example[\"tokens\"] = ast.literal_eval(example[\"tokens\"])\n",
    "    example[\"ner_tags\"] = ast.literal_eval(example[\"ner_tags\"])\n",
    "    return example\n",
    "\n",
    "raw_datasets = raw_datasets.map(parse_lists)\n",
    "raw_datasets"
   ]
  },
  {
   "cell_type": "code",
   "outputs": [],
   "source": [
    "label_names = load_dataset(\"conll2003\")[\"train\"].features[\"ner_tags\"].feature.names"
   ],
   "metadata": {
    "collapsed": false,
    "ExecuteTime": {
     "end_time": "2024-03-26T01:35:29.179223Z",
     "start_time": "2024-03-26T01:35:27.774143Z"
    }
   },
   "id": "8216233891f0eb9",
   "execution_count": 13
  },
  {
   "cell_type": "code",
   "outputs": [
    {
     "data": {
      "text/plain": "Map:   0%|          | 0/131491 [00:00<?, ? examples/s]",
      "application/vnd.jupyter.widget-view+json": {
       "version_major": 2,
       "version_minor": 0,
       "model_id": "b6a40beb4c2641ffb7209ba5637f5a16"
      }
     },
     "metadata": {},
     "output_type": "display_data"
    },
    {
     "name": "stderr",
     "output_type": "stream",
     "text": [
      "Asking to truncate to max_length but no maximum length is provided and the model has no predefined maximum length. Default to no truncation.\n"
     ]
    },
    {
     "data": {
      "text/plain": "Map:   0%|          | 0/14611 [00:00<?, ? examples/s]",
      "application/vnd.jupyter.widget-view+json": {
       "version_major": 2,
       "version_minor": 0,
       "model_id": "4d3a2eefcdaa431392cee9d66f3fb676"
      }
     },
     "metadata": {},
     "output_type": "display_data"
    }
   ],
   "source": [
    "from functools import partial\n",
    "\n",
    "from transformers import AutoTokenizer\n",
    "\n",
    "from min_name_classifier.utils import tokenize_and_align_labels\n",
    "\n",
    "\n",
    "model_checkpoint = \"distilbert/distilbert-base-uncased\"\n",
    "tokenizer = AutoTokenizer.from_pretrained(model_checkpoint)\n",
    "\n",
    "tokenized_datasets = raw_datasets.map(\n",
    "    partial(tokenize_and_align_labels, tokenizer),\n",
    "    batched=True,\n",
    "    remove_columns=raw_datasets[\"train\"].column_names,\n",
    ")"
   ],
   "metadata": {
    "collapsed": false,
    "ExecuteTime": {
     "end_time": "2024-03-26T01:23:26.408044Z",
     "start_time": "2024-03-26T01:23:25.019404Z"
    }
   },
   "id": "86eb032a003bcc68",
   "execution_count": 4
  },
  {
   "cell_type": "code",
   "outputs": [],
   "source": [
    "from torch.utils.data import DataLoader\n",
    "from transformers import DataCollatorForTokenClassification\n",
    "\n",
    "data_collator = DataCollatorForTokenClassification(tokenizer=tokenizer)\n",
    "batch_size = 64\n",
    "eval_dataloader = DataLoader(\n",
    "    tokenized_datasets[\"test\"], collate_fn=data_collator, batch_size=batch_size\n",
    ")"
   ],
   "metadata": {
    "collapsed": false,
    "ExecuteTime": {
     "end_time": "2024-03-26T01:23:26.412472Z",
     "start_time": "2024-03-26T01:23:26.409451Z"
    }
   },
   "id": "273a32fe885173ac",
   "execution_count": 5
  },
  {
   "cell_type": "markdown",
   "source": [
    "See how the model fine-tuned on conll2003 performs on the names dataset"
   ],
   "metadata": {
    "collapsed": false
   },
   "id": "35aadfaa4e71197a"
  },
  {
   "cell_type": "code",
   "outputs": [
    {
     "data": {
      "text/plain": "  0%|          | 0/229 [00:00<?, ?it/s]",
      "application/vnd.jupyter.widget-view+json": {
       "version_major": 2,
       "version_minor": 0,
       "model_id": "68e4148aa09747afbd4a3bcdf09293ab"
      }
     },
     "metadata": {},
     "output_type": "display_data"
    },
    {
     "data": {
      "text/plain": "{'LOC': {'precision': 0.0, 'recall': 0.0, 'f1': 0.0, 'number': 0},\n 'MISC': {'precision': 0.0, 'recall': 0.0, 'f1': 0.0, 'number': 0},\n 'ORG': {'precision': 0.0, 'recall': 0.0, 'f1': 0.0, 'number': 0},\n 'PER': {'precision': 0.7104615384615385,\n  'recall': 0.3418714835652946,\n  'f1': 0.46161535385845653,\n  'number': 6754},\n 'overall_precision': 0.2034899092271085,\n 'overall_recall': 0.3418714835652946,\n 'overall_f1': 0.2551240262968896,\n 'overall_accuracy': 0.5134514577827839}"
     },
     "execution_count": 8,
     "metadata": {},
     "output_type": "execute_result"
    }
   ],
   "source": [
    "from min_name_classifier.utils import NER\n",
    "\n",
    "import evaluate\n",
    "\n",
    "seqeval = evaluate.load(\"seqeval\")\n",
    "\n",
    "conll2003_ner = NER.from_pretrained(\n",
    "    \"jackfriedson/distilbert-uncased-finetuned-ner\",\n",
    "    label_names=label_names,\n",
    "    metric=seqeval,\n",
    ")\n",
    "\n",
    "conll2003_ner.evaluate_model(eval_dataloader)"
   ],
   "metadata": {
    "collapsed": false,
    "ExecuteTime": {
     "end_time": "2024-03-26T01:25:20.857587Z",
     "start_time": "2024-03-26T01:24:58.056793Z"
    }
   },
   "id": "292a8790ea2485b5",
   "execution_count": 8
  },
  {
   "cell_type": "markdown",
   "source": [
    "Not great, let's fine-tune a base model on the names dataset instead"
   ],
   "metadata": {
    "collapsed": false
   },
   "id": "32aecc82b69e29f3"
  },
  {
   "cell_type": "markdown",
   "source": [],
   "metadata": {
    "collapsed": false
   },
   "id": "52fce9ee17903a50"
  },
  {
   "cell_type": "code",
   "outputs": [
    {
     "name": "stderr",
     "output_type": "stream",
     "text": [
      "Some weights of DistilBertForTokenClassification were not initialized from the model checkpoint at distilbert/distilbert-base-uncased and are newly initialized: ['classifier.bias', 'classifier.weight']\n",
      "You should probably TRAIN this model on a down-stream task to be able to use it for predictions and inference.\n"
     ]
    }
   ],
   "source": [
    "from torch.optim import AdamW\n",
    "from transformers import AutoModelForTokenClassification, get_scheduler\n",
    "\n",
    "id2label = {i: label for i, label in enumerate(label_names)}\n",
    "label2id = {v: k for k, v in id2label.items()}\n",
    "\n",
    "model = AutoModelForTokenClassification.from_pretrained(\n",
    "    model_checkpoint,\n",
    "    id2label=id2label,\n",
    "    label2id=label2id,\n",
    ")\n",
    "\n",
    "train_dataloader = DataLoader(\n",
    "    tokenized_datasets[\"train\"],\n",
    "    shuffle=True,\n",
    "    collate_fn=data_collator,\n",
    "    batch_size=batch_size,\n",
    ")\n",
    "\n",
    "optimizer = AdamW(model.parameters(), lr=2e-5)\n",
    "\n",
    "num_train_epochs = 2\n",
    "num_update_steps_per_epoch = len(train_dataloader)\n",
    "num_training_steps = num_train_epochs * num_update_steps_per_epoch\n",
    "\n",
    "lr_scheduler = get_scheduler(\n",
    "    \"linear\",\n",
    "    optimizer=optimizer,\n",
    "    num_warmup_steps=0,\n",
    "    num_training_steps=num_training_steps,\n",
    ")\n",
    "\n",
    "model_name = \"distilbert-uncased-names-accelerate\"\n",
    "output_dir = f\"models/{model_name}\"\n",
    "\n",
    "ner = NER(model, tokenizer, label_names, seqeval)\n"
   ],
   "metadata": {
    "collapsed": false,
    "ExecuteTime": {
     "end_time": "2024-03-26T01:35:35.476011Z",
     "start_time": "2024-03-26T01:35:35.319889Z"
    }
   },
   "id": "806ea826f1b7f959",
   "execution_count": 14
  },
  {
   "cell_type": "code",
   "outputs": [],
   "source": [
    "# ner.train(model_name, output_dir, num_train_epochs, train_dataloader, eval_dataloader, optimizer, lr_scheduler)"
   ],
   "metadata": {
    "collapsed": false,
    "ExecuteTime": {
     "end_time": "2024-03-26T01:33:38.873238Z",
     "start_time": "2024-03-26T01:33:38.862193Z"
    }
   },
   "id": "9f4feb5036339a3d",
   "execution_count": 11
  },
  {
   "cell_type": "code",
   "outputs": [
    {
     "data": {
      "text/plain": "tokenizer_config.json:   0%|          | 0.00/1.22k [00:00<?, ?B/s]",
      "application/vnd.jupyter.widget-view+json": {
       "version_major": 2,
       "version_minor": 0,
       "model_id": "e97847199a894f5693e81c0b432013e9"
      }
     },
     "metadata": {},
     "output_type": "display_data"
    },
    {
     "data": {
      "text/plain": "vocab.txt:   0%|          | 0.00/232k [00:00<?, ?B/s]",
      "application/vnd.jupyter.widget-view+json": {
       "version_major": 2,
       "version_minor": 0,
       "model_id": "6cf0a4cb8daa4164981ef3d279771a90"
      }
     },
     "metadata": {},
     "output_type": "display_data"
    },
    {
     "data": {
      "text/plain": "tokenizer.json:   0%|          | 0.00/711k [00:00<?, ?B/s]",
      "application/vnd.jupyter.widget-view+json": {
       "version_major": 2,
       "version_minor": 0,
       "model_id": "b402ba1508d746ec972f5d243171ae26"
      }
     },
     "metadata": {},
     "output_type": "display_data"
    },
    {
     "data": {
      "text/plain": "special_tokens_map.json:   0%|          | 0.00/125 [00:00<?, ?B/s]",
      "application/vnd.jupyter.widget-view+json": {
       "version_major": 2,
       "version_minor": 0,
       "model_id": "d3e9f394682847c4bd6c9b3684c9dddf"
      }
     },
     "metadata": {},
     "output_type": "display_data"
    }
   ],
   "source": [
    "from huggingface_hub import get_full_repo_name\n",
    "\n",
    "eval_dataloader = DataLoader(\n",
    "    tokenized_datasets[\"test\"], collate_fn=data_collator, batch_size=batch_size\n",
    ")\n",
    "\n",
    "repo_name = get_full_repo_name(model_name)\n",
    "ner = NER.from_pretrained(repo_name, label_names, seqeval)"
   ],
   "metadata": {
    "collapsed": false,
    "ExecuteTime": {
     "end_time": "2024-03-26T01:37:04.589416Z",
     "start_time": "2024-03-26T01:37:03.687222Z"
    }
   },
   "id": "4c5e5f154a7c861a",
   "execution_count": 16
  },
  {
   "cell_type": "code",
   "outputs": [
    {
     "data": {
      "text/plain": "  0%|          | 0/229 [00:00<?, ?it/s]",
      "application/vnd.jupyter.widget-view+json": {
       "version_major": 2,
       "version_minor": 0,
       "model_id": "25989a8df1aa4cbab9c664bf5df0468b"
      }
     },
     "metadata": {},
     "output_type": "display_data"
    },
    {
     "data": {
      "text/plain": "{'PER': {'precision': 0.8872686483454851,\n  'recall': 0.936926265916494,\n  'f1': 0.9114215756877431,\n  'number': 6754},\n 'overall_precision': 0.8872686483454851,\n 'overall_recall': 0.936926265916494,\n 'overall_f1': 0.9114215756877431,\n 'overall_accuracy': 0.9408005891781831}"
     },
     "execution_count": 17,
     "metadata": {},
     "output_type": "execute_result"
    }
   ],
   "source": [
    "ner.evaluate_model(eval_dataloader)"
   ],
   "metadata": {
    "collapsed": false,
    "ExecuteTime": {
     "end_time": "2024-03-26T01:37:33.427138Z",
     "start_time": "2024-03-26T01:37:12.712195Z"
    }
   },
   "id": "301ae0f4a1290743",
   "execution_count": 17
  }
 ],
 "metadata": {
  "kernelspec": {
   "display_name": "Python 3",
   "language": "python",
   "name": "python3"
  },
  "language_info": {
   "codemirror_mode": {
    "name": "ipython",
    "version": 2
   },
   "file_extension": ".py",
   "mimetype": "text/x-python",
   "name": "python",
   "nbconvert_exporter": "python",
   "pygments_lexer": "ipython2",
   "version": "2.7.6"
  }
 },
 "nbformat": 4,
 "nbformat_minor": 5
}

{
 "cells": [
  {
   "cell_type": "markdown",
   "source": [
    "This notebook fine-tunes the distilbert-base-uncased model on the conll2003 dataset "
   ],
   "metadata": {
    "collapsed": false
   },
   "id": "85d0ab39384fe6e5"
  },
  {
   "cell_type": "code",
   "execution_count": 1,
   "id": "f6b238cbd0a47244",
   "metadata": {
    "collapsed": false,
    "ExecuteTime": {
     "end_time": "2024-03-26T01:02:11.133643Z",
     "start_time": "2024-03-26T01:02:08.640715Z"
    }
   },
   "outputs": [
    {
     "data": {
      "text/plain": "DatasetDict({\n    train: Dataset({\n        features: ['id', 'tokens', 'pos_tags', 'chunk_tags', 'ner_tags'],\n        num_rows: 14041\n    })\n    validation: Dataset({\n        features: ['id', 'tokens', 'pos_tags', 'chunk_tags', 'ner_tags'],\n        num_rows: 3250\n    })\n    test: Dataset({\n        features: ['id', 'tokens', 'pos_tags', 'chunk_tags', 'ner_tags'],\n        num_rows: 3453\n    })\n})"
     },
     "execution_count": 1,
     "metadata": {},
     "output_type": "execute_result"
    }
   ],
   "source": [
    "from datasets import load_dataset\n",
    "\n",
    "raw_datasets = load_dataset(\"conll2003\")\n",
    "raw_datasets"
   ]
  },
  {
   "cell_type": "code",
   "execution_count": 2,
   "id": "a314408788eb8e79",
   "metadata": {
    "collapsed": false,
    "ExecuteTime": {
     "end_time": "2024-03-26T01:02:11.214734Z",
     "start_time": "2024-03-26T01:02:11.134698Z"
    }
   },
   "outputs": [
    {
     "data": {
      "text/plain": "['O', 'B-PER', 'I-PER', 'B-ORG', 'I-ORG', 'B-LOC', 'I-LOC', 'B-MISC', 'I-MISC']"
     },
     "execution_count": 2,
     "metadata": {},
     "output_type": "execute_result"
    }
   ],
   "source": [
    "ner_feature = raw_datasets[\"train\"].features[\"ner_tags\"]\n",
    "label_names = ner_feature.feature.names\n",
    "label_names"
   ]
  },
  {
   "cell_type": "code",
   "execution_count": 3,
   "id": "afed60998a9b05bd",
   "metadata": {
    "collapsed": false,
    "ExecuteTime": {
     "end_time": "2024-03-26T01:02:11.983768Z",
     "start_time": "2024-03-26T01:02:11.229017Z"
    }
   },
   "outputs": [],
   "source": [
    "from transformers import AutoTokenizer\n",
    "\n",
    "# TODO: try some other models, e.g. distilbert-base-cased, distilbert-base-multilingual-cased\n",
    "model_checkpoint = \"distilbert/distilbert-base-uncased\"\n",
    "tokenizer = AutoTokenizer.from_pretrained(model_checkpoint)"
   ]
  },
  {
   "cell_type": "markdown",
   "id": "d0e36605cbf1f169",
   "metadata": {
    "collapsed": false
   },
   "source": [
    "# Preprocessing"
   ]
  },
  {
   "cell_type": "code",
   "execution_count": 4,
   "id": "61366c9d10466df9",
   "metadata": {
    "collapsed": false,
    "ExecuteTime": {
     "end_time": "2024-03-26T01:02:11.998187Z",
     "start_time": "2024-03-26T01:02:11.982730Z"
    }
   },
   "outputs": [],
   "source": [
    "from functools import partial\n",
    "\n",
    "from min_name_classifier.utils import tokenize_and_align_labels\n",
    "\n",
    "tokenized_datasets = raw_datasets.map(\n",
    "    partial(tokenize_and_align_labels, tokenizer),\n",
    "    batched=True,\n",
    "    remove_columns=raw_datasets[\"train\"].column_names,\n",
    ")"
   ]
  },
  {
   "cell_type": "code",
   "execution_count": 5,
   "id": "458ecdb36fe24198",
   "metadata": {
    "collapsed": false,
    "ExecuteTime": {
     "end_time": "2024-03-26T01:02:12.283531Z",
     "start_time": "2024-03-26T01:02:11.998458Z"
    }
   },
   "outputs": [],
   "source": [
    "from transformers import DataCollatorForTokenClassification\n",
    "\n",
    "data_collator = DataCollatorForTokenClassification(tokenizer=tokenizer)"
   ]
  },
  {
   "cell_type": "code",
   "execution_count": 6,
   "id": "a016d68fd17a709b",
   "metadata": {
    "collapsed": false,
    "ExecuteTime": {
     "end_time": "2024-03-26T01:02:13.066671Z",
     "start_time": "2024-03-26T01:02:12.283697Z"
    }
   },
   "outputs": [],
   "source": [
    "import evaluate\n",
    "\n",
    "seqeval = evaluate.load(\"seqeval\")"
   ]
  },
  {
   "cell_type": "markdown",
   "id": "62fa8928b44a40e6",
   "metadata": {
    "collapsed": false
   },
   "source": [
    "# Training"
   ]
  },
  {
   "cell_type": "code",
   "execution_count": 7,
   "id": "7ace458cf0f575fc",
   "metadata": {
    "collapsed": false,
    "ExecuteTime": {
     "end_time": "2024-03-26T01:02:13.076789Z",
     "start_time": "2024-03-26T01:02:13.067104Z"
    }
   },
   "outputs": [],
   "source": [
    "id2label = {i: label for i, label in enumerate(label_names)}\n",
    "label2id = {v: k for k, v in id2label.items()}"
   ]
  },
  {
   "cell_type": "code",
   "execution_count": 8,
   "id": "6ca7b9323c64f975",
   "metadata": {
    "collapsed": false,
    "ExecuteTime": {
     "end_time": "2024-03-26T01:02:13.464077Z",
     "start_time": "2024-03-26T01:02:13.071293Z"
    }
   },
   "outputs": [
    {
     "name": "stderr",
     "output_type": "stream",
     "text": [
      "Some weights of DistilBertForTokenClassification were not initialized from the model checkpoint at distilbert/distilbert-base-uncased and are newly initialized: ['classifier.bias', 'classifier.weight']\n",
      "You should probably TRAIN this model on a down-stream task to be able to use it for predictions and inference.\n"
     ]
    }
   ],
   "source": [
    "from transformers import AutoModelForTokenClassification\n",
    "\n",
    "model = AutoModelForTokenClassification.from_pretrained(\n",
    "    model_checkpoint,\n",
    "    id2label=id2label,\n",
    "    label2id=label2id,\n",
    ")"
   ]
  },
  {
   "cell_type": "code",
   "execution_count": 9,
   "id": "d9d693ff40a02bee",
   "metadata": {
    "collapsed": false,
    "ExecuteTime": {
     "end_time": "2024-03-26T01:02:13.464931Z",
     "start_time": "2024-03-26T01:02:13.458978Z"
    }
   },
   "outputs": [
    {
     "data": {
      "text/plain": "9"
     },
     "execution_count": 9,
     "metadata": {},
     "output_type": "execute_result"
    }
   ],
   "source": [
    "model.config.num_labels"
   ]
  },
  {
   "cell_type": "code",
   "execution_count": 10,
   "id": "8bd15341ab09c25a",
   "metadata": {
    "collapsed": false,
    "ExecuteTime": {
     "end_time": "2024-03-26T01:02:13.467343Z",
     "start_time": "2024-03-26T01:02:13.463668Z"
    }
   },
   "outputs": [],
   "source": [
    "# from huggingface_hub import notebook_login\n",
    "# \n",
    "# notebook_login()"
   ]
  },
  {
   "cell_type": "code",
   "execution_count": 11,
   "id": "b0289aab8ab0c5c9",
   "metadata": {
    "collapsed": false,
    "ExecuteTime": {
     "end_time": "2024-03-26T01:02:13.656654Z",
     "start_time": "2024-03-26T01:02:13.467597Z"
    }
   },
   "outputs": [
    {
     "name": "stderr",
     "output_type": "stream",
     "text": [
      "/Users/jackfriedson/.pyenv/versions/3.10.13/envs/min_name_classifier/lib/python3.10/site-packages/accelerate/accelerator.py:432: FutureWarning: Passing the following arguments to `Accelerator` is deprecated and will be removed in version 1.0 of Accelerate: dict_keys(['dispatch_batches', 'split_batches', 'even_batches', 'use_seedable_sampler']). Please pass an `accelerate.DataLoaderConfiguration` instead: \n",
      "dataloader_config = DataLoaderConfiguration(dispatch_batches=None, split_batches=False, even_batches=True, use_seedable_sampler=True)\n",
      "  warnings.warn(\n"
     ]
    }
   ],
   "source": [
    "from transformers import Trainer, TrainingArguments\n",
    "\n",
    "from min_name_classifier.utils import compute_metrics\n",
    "\n",
    "\n",
    "output_dir = \"models/distilbert-uncased-finetuned-ner\"\n",
    "args = TrainingArguments(\n",
    "    output_dir,\n",
    "    evaluation_strategy=\"epoch\",\n",
    "    save_strategy=\"epoch\",\n",
    "    learning_rate=2e-5,\n",
    "    num_train_epochs=3,\n",
    "    weight_decay=0.01,\n",
    "    push_to_hub=True,\n",
    ")\n",
    "\n",
    "trainer = Trainer(\n",
    "    model=model,\n",
    "    args=args,\n",
    "    train_dataset=tokenized_datasets[\"train\"],\n",
    "    eval_dataset=tokenized_datasets[\"validation\"],\n",
    "    data_collator=data_collator,\n",
    "    compute_metrics=partial(compute_metrics, metric=seqeval, label_names=label_names),\n",
    "    tokenizer=tokenizer,\n",
    ")"
   ]
  },
  {
   "cell_type": "code",
   "outputs": [],
   "source": [
    "# trainer.train()"
   ],
   "metadata": {
    "collapsed": false,
    "ExecuteTime": {
     "end_time": "2024-03-26T01:02:13.657426Z",
     "start_time": "2024-03-26T01:02:13.617825Z"
    }
   },
   "id": "af6918b94d876de6",
   "execution_count": 12
  },
  {
   "cell_type": "code",
   "execution_count": 13,
   "id": "3bd18634c0bc16b7",
   "metadata": {
    "collapsed": false,
    "ExecuteTime": {
     "end_time": "2024-03-26T01:02:13.657980Z",
     "start_time": "2024-03-26T01:02:13.620093Z"
    }
   },
   "outputs": [],
   "source": [
    "# trainer.push_to_hub(commit_message=\"Training complete\")"
   ]
  },
  {
   "cell_type": "code",
   "execution_count": 14,
   "id": "bd910ef980e52095",
   "metadata": {
    "collapsed": false,
    "ExecuteTime": {
     "end_time": "2024-03-26T01:02:13.719428Z",
     "start_time": "2024-03-26T01:02:13.622992Z"
    }
   },
   "outputs": [],
   "source": [
    "trained_model = AutoModelForTokenClassification.from_pretrained(\n",
    "    \"jackfriedson/distilbert-uncased-finetuned-ner\",\n",
    "    id2label=id2label,\n",
    "    label2id=label2id,\n",
    ")"
   ]
  },
  {
   "cell_type": "markdown",
   "id": "a81c6b2c05610bb0",
   "metadata": {
    "collapsed": false
   },
   "source": [
    "# Evaluation"
   ]
  },
  {
   "cell_type": "code",
   "execution_count": 15,
   "id": "383e1f827b152281",
   "metadata": {
    "collapsed": false,
    "ExecuteTime": {
     "end_time": "2024-03-26T01:02:13.729020Z",
     "start_time": "2024-03-26T01:02:13.720731Z"
    }
   },
   "outputs": [],
   "source": [
    "from torch.utils.data import DataLoader\n",
    "\n",
    "eval_dataloader = DataLoader(\n",
    "    tokenized_datasets[\"validation\"], collate_fn=data_collator, batch_size=8\n",
    ")"
   ]
  },
  {
   "cell_type": "code",
   "execution_count": 16,
   "id": "6413d961b76482b2",
   "metadata": {
    "collapsed": false,
    "ExecuteTime": {
     "end_time": "2024-03-26T01:02:35.271010Z",
     "start_time": "2024-03-26T01:02:13.724040Z"
    }
   },
   "outputs": [
    {
     "data": {
      "text/plain": "  0%|          | 0/407 [00:00<?, ?it/s]",
      "application/vnd.jupyter.widget-view+json": {
       "version_major": 2,
       "version_minor": 0,
       "model_id": "f76e8d527faa4c288857134072d3b07d"
      }
     },
     "metadata": {},
     "output_type": "display_data"
    },
    {
     "data": {
      "text/plain": "{'LOC': {'precision': 0.9511802575107297,\n  'recall': 0.965160587915079,\n  'f1': 0.9581194271818428,\n  'number': 1837},\n 'MISC': {'precision': 0.8522483940042827,\n  'recall': 0.8633405639913232,\n  'f1': 0.8577586206896551,\n  'number': 922},\n 'ORG': {'precision': 0.8823529411764706,\n  'recall': 0.9060402684563759,\n  'f1': 0.8940397350993378,\n  'number': 1341},\n 'PER': {'precision': 0.9740540540540541,\n  'recall': 0.9782844733984799,\n  'f1': 0.9761646803900326,\n  'number': 1842},\n 'overall_precision': 0.9271369294605809,\n 'overall_recall': 0.9400875126220128,\n 'overall_f1': 0.9335673101027826,\n 'overall_accuracy': 0.9852256660365069}"
     },
     "execution_count": 16,
     "metadata": {},
     "output_type": "execute_result"
    }
   ],
   "source": [
    "from min_name_classifier.utils import NER\n",
    "\n",
    "ner = NER(model=trained_model, tokenizer=tokenizer, label_names=label_names, metric=seqeval)\n",
    "ner.evaluate_model(eval_dataloader)"
   ]
  },
  {
   "cell_type": "markdown",
   "id": "67bed43461f87665",
   "metadata": {
    "collapsed": false
   },
   "source": [
    "# Inference"
   ]
  },
  {
   "cell_type": "code",
   "execution_count": 17,
   "id": "284355df55486811",
   "metadata": {
    "collapsed": false,
    "ExecuteTime": {
     "end_time": "2024-03-26T01:02:35.296177Z",
     "start_time": "2024-03-26T01:02:35.263612Z"
    }
   },
   "outputs": [
    {
     "data": {
      "text/plain": "['B-PER', 'I-PER']"
     },
     "execution_count": 17,
     "metadata": {},
     "output_type": "execute_result"
    }
   ],
   "source": [
    "from min_name_classifier.utils import split_into_words\n",
    "\n",
    "ner.get_predictions(split_into_words(\"john smith\"))"
   ]
  },
  {
   "cell_type": "code",
   "execution_count": 18,
   "id": "9f00a604762c1fef",
   "metadata": {
    "collapsed": false,
    "ExecuteTime": {
     "end_time": "2024-03-26T01:02:35.338128Z",
     "start_time": "2024-03-26T01:02:35.293544Z"
    }
   },
   "outputs": [
    {
     "data": {
      "text/plain": "['O']"
     },
     "execution_count": 18,
     "metadata": {},
     "output_type": "execute_result"
    }
   ],
   "source": [
    "ner.get_predictions(split_into_words(\"building\"))"
   ]
  },
  {
   "cell_type": "code",
   "execution_count": 19,
   "id": "455e3e5cf4493b6b",
   "metadata": {
    "collapsed": false,
    "ExecuteTime": {
     "end_time": "2024-03-26T01:02:35.366504Z",
     "start_time": "2024-03-26T01:02:35.319510Z"
    }
   },
   "outputs": [
    {
     "name": "stderr",
     "output_type": "stream",
     "text": [
      "Asking to truncate to max_length but no maximum length is provided and the model has no predefined maximum length. Default to no truncation.\n"
     ]
    },
    {
     "data": {
      "text/plain": "[['B-PER', 'I-PER'],\n ['B-PER', 'I-PER'],\n ['O'],\n ['B-ORG'],\n ['B-PER', 'O', 'B-PER'],\n ['B-PER', 'O', 'O', 'O', 'O', 'O', 'B-PER']]"
     },
     "execution_count": 19,
     "metadata": {},
     "output_type": "execute_result"
    }
   ],
   "source": [
    "raw_inputs = [\"john smith\", \"abraham lincoln\", \"building\", \"datadog\", \"smith, john\", \"sylvain went to the store with martha\"]\n",
    "inputs = list(map(split_into_words, raw_inputs))\n",
    "ner.get_predictions_batch(inputs)"
   ]
  },
  {
   "cell_type": "code",
   "outputs": [
    {
     "name": "stdout",
     "output_type": "stream",
     "text": [
      "29.7 ms ± 1.58 ms per loop (mean ± std. dev. of 15 runs, 10 loops each)\n",
      "Predicted 6 words in 29.67 ms\n",
      "4.94 ms per word\n"
     ]
    }
   ],
   "source": [
    "def time_inference(word_inputs: list[list[str]]):\n",
    "    result = %timeit -r 15 -o ner.get_predictions_batch(word_inputs)\n",
    "    print(f\"Predicted {len(word_inputs)} words in {1000 * result.average:.2f} ms\")\n",
    "    print(f\"{1000 * result.average / len(word_inputs):.2f} ms per word\")\n",
    "\n",
    "time_inference(inputs)"
   ],
   "metadata": {
    "collapsed": false,
    "ExecuteTime": {
     "end_time": "2024-03-26T01:07:39.759917Z",
     "start_time": "2024-03-26T01:07:34.773893Z"
    }
   },
   "id": "4647e38c24d1b9f9",
   "execution_count": 29
  },
  {
   "cell_type": "code",
   "execution_count": 31,
   "id": "8332eba2b7203e85",
   "metadata": {
    "collapsed": false,
    "ExecuteTime": {
     "end_time": "2024-03-26T01:08:27.898807Z",
     "start_time": "2024-03-26T01:08:10.571307Z"
    }
   },
   "outputs": [
    {
     "name": "stdout",
     "output_type": "stream",
     "text": [
      "107 ms ± 1.8 ms per loop (mean ± std. dev. of 15 runs, 10 loops each)\n",
      "Predicted 60 words in 106.74 ms\n",
      "1.78 ms per word\n"
     ]
    }
   ],
   "source": [
    "inputs_med = list(map(split_into_words, raw_inputs * 10))\n",
    "time_inference(inputs_med)"
   ]
  },
  {
   "cell_type": "code",
   "execution_count": 32,
   "id": "bc0bf7b7fb0c1bcd",
   "metadata": {
    "collapsed": false,
    "ExecuteTime": {
     "end_time": "2024-03-26T01:08:43.430349Z",
     "start_time": "2024-03-26T01:08:30.168864Z"
    }
   },
   "outputs": [
    {
     "name": "stdout",
     "output_type": "stream",
     "text": [
      "821 ms ± 55 ms per loop (mean ± std. dev. of 15 runs, 1 loop each)\n",
      "Predicted 600 words in 821.32 ms\n",
      "1.37 ms per word\n"
     ]
    }
   ],
   "source": [
    "inputs_large = list(map(split_into_words, raw_inputs * 100))\n",
    "time_inference(inputs_large)"
   ]
  }
 ],
 "metadata": {
  "kernelspec": {
   "display_name": "Python 3 (ipykernel)",
   "language": "python",
   "name": "python3"
  },
  "language_info": {
   "codemirror_mode": {
    "name": "ipython",
    "version": 3
   },
   "file_extension": ".py",
   "mimetype": "text/x-python",
   "name": "python",
   "nbconvert_exporter": "python",
   "pygments_lexer": "ipython3",
   "version": "3.10.13"
  }
 },
 "nbformat": 4,
 "nbformat_minor": 5
}
